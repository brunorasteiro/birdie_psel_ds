{
 "cells": [
  {
   "cell_type": "code",
   "execution_count": 0,
   "metadata": {
    "colab": {},
    "colab_type": "code",
    "id": "xmNrmAkZixIs"
   },
   "outputs": [],
   "source": [
    "from google.colab import drive\n",
    "drive.mount('/content/gdrive')\n",
    "path_base = '/content/gdrive/My Drive/Colab Notebooks/psel_birdie_ds/'"
   ]
  },
  {
   "cell_type": "code",
   "execution_count": 0,
   "metadata": {
    "colab": {},
    "colab_type": "code",
    "id": "VwNjsIYdipJh"
   },
   "outputs": [],
   "source": [
    "! pip install unidecode\n",
    "\n",
    "import pandas as pd\n",
    "import numpy as np\n",
    "import json\n",
    "import re\n",
    "from matplotlib import pyplot as plt\n",
    "from unidecode import unidecode"
   ]
  },
  {
   "cell_type": "markdown",
   "metadata": {
    "colab_type": "text",
    "id": "SqlM2WETweAx"
   },
   "source": [
    "# 1. Teste Classificação"
   ]
  },
  {
   "cell_type": "markdown",
   "metadata": {
    "colab_type": "text",
    "id": "pI-oxxEiwo5m"
   },
   "source": [
    "## Preparando a base de dados"
   ]
  },
  {
   "cell_type": "code",
   "execution_count": 0,
   "metadata": {
    "colab": {},
    "colab_type": "code",
    "id": "f4fyB1AnisAK"
   },
   "outputs": [],
   "source": [
    "# carrega arquivo de smartphones\n",
    "smart = json.load(open(path_base + 'data/smartphones_.json'))\n",
    "smart = pd.DataFrame(smart)\n",
    "\n",
    "# carrega arquivo de não smartphones\n",
    "n_smart = json.load(open(path_base + 'data/nao_smartphones.json'))\n",
    "n_smart = pd.DataFrame(n_smart)"
   ]
  },
  {
   "cell_type": "code",
   "execution_count": 0,
   "metadata": {
    "colab": {},
    "colab_type": "code",
    "id": "Sd3xxd4ZjMNq"
   },
   "outputs": [],
   "source": [
    "# quantidade de smartphones\n",
    "n = smart.shape[0]\n",
    "\n",
    "# # concatena os dois dataframes amostrando n instâncias dos não smartphones\n",
    "# data = pd.concat([smart, n_smart.sample(n, replace=False)])\n",
    "\n",
    "# concatena os dois dataframes\n",
    "data = pd.concat([smart, n_smart])"
   ]
  },
  {
   "cell_type": "code",
   "execution_count": 0,
   "metadata": {
    "colab": {},
    "colab_type": "code",
    "id": "jjBJ8I-ujeV8"
   },
   "outputs": [],
   "source": [
    "# palavras chave de smartphone e de não smartphones\n",
    "key_words = ['capa', 'capinha', 'case', 'pelicula', 'acessorio', 'tablet', \n",
    "             'tab ', 'relogio', 'smartwatch', 'bumper', 'bumber', 'protetores', \n",
    "             'protetor', 'suporte', 'kit', 'cabo', 'bracadeira', 'ipad', \n",
    "             'adesivo', 'lentes', 'lente', 'carregador', 'repetidor', \n",
    "             'espelhamento', 'mirror', 'antena', 'watch', 'interface' ] + [\n",
    "             'smartphone', 'celular', 'iphone', 'galaxy', 'samsung a', \n",
    "             'samsung j', 'moto ', 'xperia', 'zenfone', 'lg k', 'xiaomi mi', \n",
    "             'rom global', 'xiaomi redmi', 'oneplus', 'caterpillar cat', 'motorola nextel']"
   ]
  },
  {
   "cell_type": "code",
   "execution_count": 0,
   "metadata": {
    "colab": {},
    "colab_type": "code",
    "id": "mDW_h1AKjhJd"
   },
   "outputs": [],
   "source": [
    "# cada palavra vira uma feature\n",
    "for kw in key_words:\n",
    "    data[kw] = data['titulo'].apply(lambda x: 1 if kw in unidecode( x.lower() ) else 0)    "
   ]
  },
  {
   "cell_type": "code",
   "execution_count": 0,
   "metadata": {
    "colab": {},
    "colab_type": "code",
    "id": "b72ZowjLjheG"
   },
   "outputs": [],
   "source": [
    "# separa o dataset em target e data (somente as features)\n",
    "target = data['categoria'].apply(lambda x: 0 if x=='nao-smartphone' else 1)\n",
    "data = data.loc[:, 'capa':'motorola nextel']"
   ]
  },
  {
   "cell_type": "markdown",
   "metadata": {
    "colab_type": "text",
    "id": "PC6eUthGj3mv"
   },
   "source": [
    "## Encontrando o melhor K"
   ]
  },
  {
   "cell_type": "code",
   "execution_count": 0,
   "metadata": {
    "colab": {},
    "colab_type": "code",
    "id": "f_Sggo0kjndE"
   },
   "outputs": [],
   "source": [
    "# função que treina e testa o KNN com cross validation (5 folds) variando o k de 1 a 100 \n",
    "# retorno: uma tupla contendo o erro médio quadrático em treino e teste para cada uma das 100 execuções (sendo 5 execuções para cada uma das 100)\n",
    "def err_k(data, target):\n",
    "    from sklearn.neighbors import KNeighborsClassifier\n",
    "    from sklearn.metrics import mean_squared_error\n",
    "    from sklearn.model_selection import KFold\n",
    "\n",
    "    kf = KFold(10, shuffle=True)\n",
    "    k_range = range(1, 50)\n",
    "    err_test = np.zeros( (len(k_range), 10) )\n",
    "    err_train = np.zeros( (len(k_range), 10) )\n",
    "\n",
    "    for k in k_range:\n",
    "        clf = KNeighborsClassifier(k)\n",
    "\n",
    "        for i, (train_index, test_index) in enumerate(kf.split(data)):\n",
    "            # separa conjunto de treino e de teste\n",
    "            x_train, x_test = data.iloc[train_index], data.iloc[test_index]\n",
    "            y_train, y_test = target.iloc[train_index], target.iloc[test_index]\n",
    "\n",
    "            # treinando o modelo\n",
    "            clf = clf.fit(x_train, y_train)\n",
    "\n",
    "            # predizendo em teste (classificando)\n",
    "            y_pred = clf.predict(x_test)\n",
    "            err_test[k-1][i] = ( mean_squared_error(y_test, y_pred) )\n",
    "\n",
    "            # predizendo em treino\n",
    "            y_pred = clf.predict(x_train)\n",
    "            err_train[k-1][i] = ( mean_squared_error(y_train, y_pred) )   \n",
    "\n",
    "    return err_train, err_test"
   ]
  },
  {
   "cell_type": "code",
   "execution_count": 0,
   "metadata": {
    "colab": {},
    "colab_type": "code",
    "id": "6Ui5s351j9e7"
   },
   "outputs": [],
   "source": [
    "# cria um dataset menor para encontrar os diferentes valores de k\n",
    "s = int( (  smart.shape[0]/(smart.shape[0]+n_smart.shape[0])) * 4000 )\n",
    "n = int( (n_smart.shape[0]/(smart.shape[0]+n_smart.shape[0])) * 4000 )\n",
    "\n",
    "df = pd.concat([data[target==1].sample(s, replace=False), \n",
    "                data[target==0].sample(n, replace=False)])\n",
    "\n",
    "# obtem o erro em teste e treino para diferentes valores de k\n",
    "err_train, err_test = err_k(df, target)"
   ]
  },
  {
   "cell_type": "code",
   "execution_count": 99,
   "metadata": {
    "colab": {
     "base_uri": "https://localhost:8080/",
     "height": 349
    },
    "colab_type": "code",
    "id": "TiS-17BKj-Cx",
    "outputId": "1093e3ed-4ac7-4339-87ff-0f342ad8685d"
   },
   "outputs": [
    {
     "data": {
      "image/png": "[encoded data removed]",
      "text/plain": [
       "<matplotlib.figure.Figure at 0x7f41e2cbf6d8>"
      ]
     },
     "metadata": {
      "tags": []
     },
     "output_type": "display_data"
    }
   ],
   "source": [
    "# plot do erro em teste e treino\n",
    "plt.figure( figsize=(10, 5) )\n",
    "\n",
    "x = range(1, err_train.shape[0]+1)\n",
    "\n",
    "y_train     = err_train.mean(axis=1)\n",
    "y_test      = err_test.mean(axis=1)\n",
    "\n",
    "plt.plot(x, y_test, label=\"Teste\")\n",
    "plt.plot(x, y_train, label=\"Treino\")\n",
    "\n",
    "plt.title(\"Erro do KNN em treino e teste\")\n",
    "plt.xlabel(\"K\")\n",
    "plt.ylabel(\"Erro médio quadrático\")\n",
    "plt.legend(loc=\"lower right\")\n",
    "\n",
    "plt.show()"
   ]
  },
  {
   "cell_type": "markdown",
   "metadata": {
    "colab_type": "text",
    "id": "-53amofuj_95"
   },
   "source": [
    "## Classificadores"
   ]
  },
  {
   "cell_type": "code",
   "execution_count": 0,
   "metadata": {
    "colab": {},
    "colab_type": "code",
    "id": "AVlHe_ts3lx4"
   },
   "outputs": [],
   "source": [
    "from sklearn.tree import DecisionTreeClassifier\n",
    "from sklearn.neighbors import KNeighborsClassifier\n",
    "from sklearn.discriminant_analysis import LinearDiscriminantAnalysis as LDA\n",
    "from sklearn.discriminant_analysis import QuadraticDiscriminantAnalysis as QDA\n",
    "from sklearn.metrics import accuracy_score\n",
    "from sklearn.model_selection import KFold"
   ]
  },
  {
   "cell_type": "code",
   "execution_count": 0,
   "metadata": {
    "colab": {},
    "colab_type": "code",
    "id": "virVQuVEj_cf"
   },
   "outputs": [],
   "source": [
    "dt = DecisionTreeClassifier()\n",
    "knn = KNeighborsClassifier(35)\n",
    "lda = LDA()\n",
    "qda = QDA()\n",
    "\n",
    "clfs = (dt, knn, lda, qda)\n",
    "clfs_name = (\"Árvore de decisão\", \"KNN\", \"LDA\", \"QDA\")\n",
    "\n",
    "kf = KFold(n_splits=10, shuffle=True)\n",
    "score = {name : np.zeros(10) for name in clfs_name}\n",
    "y_proba = {name : () for name in clfs_name}\n",
    "\n",
    "for i, (clf, clf_name) in enumerate( zip(clfs, clfs_name) ):\n",
    "    for j, (train_index, test_index) in enumerate( kf.split(data) ):\n",
    "        x_train, x_test = data.iloc[train_index], data.iloc[test_index]\n",
    "        y_train, y_test = target.iloc[train_index], target.iloc[test_index]\n",
    "\n",
    "        # treinando o modelo\n",
    "        clf = clf.fit(x_train, y_train)\n",
    "\n",
    "        # predizendo valores (classificando)\n",
    "        y_pred = clf.predict(x_test)\n",
    "        y_pred_proba = clf.predict_proba(x_test)[:, 1]\n",
    "        \n",
    "        score[clf_name][j] = accuracy_score(y_test, y_pred)\n",
    "        \n",
    "        # armazena uma tupla com o y teste, y proba e y predito do classificador clf_name\n",
    "        y_proba[clf_name] = (y_test, y_pred_proba, y_pred)"
   ]
  },
  {
   "cell_type": "markdown",
   "metadata": {
    "colab_type": "text",
    "id": "eTTfjSWNkM49"
   },
   "source": [
    "### Acurácia"
   ]
  },
  {
   "cell_type": "code",
   "execution_count": 107,
   "metadata": {
    "colab": {
     "base_uri": "https://localhost:8080/",
     "height": 366
    },
    "colab_type": "code",
    "id": "1xKkIJwTkHoI",
    "outputId": "42cef663-204e-4276-ca83-9712b114abf6"
   },
   "outputs": [
    {
     "name": "stderr",
     "output_type": "stream",
     "text": [
      "No handles with labels found to put in legend.\n"
     ]
    },
    {
     "data": {
      "image/png": "[encoded data removed]",
      "text/plain": [
       "<matplotlib.figure.Figure at 0x7f41e2d63828>"
      ]
     },
     "metadata": {
      "tags": []
     },
     "output_type": "display_data"
    }
   ],
   "source": [
    "# plot da acuracia\n",
    "plt.figure(figsize=(8, 5))\n",
    "\n",
    "x = np.arange(len(clfs_name))\n",
    "y = [ score[clf].mean() for clf in clfs_name ]\n",
    "y_err = [ score[clf].std() for clf in clfs_name ]\n",
    "\n",
    "plt.bar(x, y, yerr=y_err, width=0.4)\n",
    "\n",
    "for i, v in enumerate(y):\n",
    "    plt.text(i-0.1, 0.03, '%.2f'%(v*100), color='white')\n",
    "      \n",
    "plt.title(\"Acurácia dos classificadores\")\n",
    "plt.xlabel(\"Classificador\")\n",
    "plt.ylabel(\"Acurácia\")\n",
    "plt.xticks(x, clfs_name)\n",
    "plt.legend(loc=\"upper left\")\n",
    "plt.ylim(0, 1)\n",
    "\n",
    "plt.show()"
   ]
  },
  {
   "cell_type": "markdown",
   "metadata": {
    "colab_type": "text",
    "id": "iyaN4fWbkPRS"
   },
   "source": [
    "### Curva ROC"
   ]
  },
  {
   "cell_type": "code",
   "execution_count": 108,
   "metadata": {
    "colab": {
     "base_uri": "https://localhost:8080/",
     "height": 349
    },
    "colab_type": "code",
    "id": "Rz_T_n1jkJER",
    "outputId": "91cbd61d-f1ac-439c-aa96-a62ba5e786b5"
   },
   "outputs": [
    {
     "data": {
      "image/png": "[encoded data removed]",
      "text/plain": [
       "<matplotlib.figure.Figure at 0x7f41e2b948d0>"
      ]
     },
     "metadata": {
      "tags": []
     },
     "output_type": "display_data"
    }
   ],
   "source": [
    "from sklearn.metrics import roc_curve, roc_auc_score\n",
    "  \n",
    "# plot da curva ROC\n",
    "plt.figure(figsize=(8, 5))\n",
    "\n",
    "# uma curva para cada classificador\n",
    "for clf in clfs_name:\n",
    "    # calcula curva ROC e AUC\n",
    "    fpr, tpr, thresholds = roc_curve(y_proba[clf][0], y_proba[clf][1])\n",
    "    roc_auc = roc_auc_score(y_proba[clf][0], y_proba[clf][2])\n",
    "    \n",
    "    # plota curva ROC\n",
    "    plt.plot(fpr, tpr, lw=2, label=clf + ' (area = %0.2f)' % roc_auc)\n",
    "    \n",
    "plt.plot([0, 1], [0, 1], color='navy', lw=2, linestyle='--')\n",
    "plt.xlim([-0.005, 1.0])\n",
    "plt.ylim([0.0, 1.005])\n",
    "plt.xlabel('Taxa de Falsos Positivos')\n",
    "plt.ylabel('Taxa de Verdadeiros Positivos')\n",
    "plt.title(\"Curva ROC dos classificadores\")\n",
    "plt.legend(loc=\"lower right\")\n",
    "\n",
    "plt.show()"
   ]
  },
  {
   "cell_type": "markdown",
   "metadata": {
    "colab_type": "text",
    "id": "bvTcG5x8k_No"
   },
   "source": [
    "## Classificando e salvando a saída"
   ]
  },
  {
   "cell_type": "code",
   "execution_count": 0,
   "metadata": {
    "colab": {},
    "colab_type": "code",
    "id": "2TnmCwcwkKzJ"
   },
   "outputs": [],
   "source": [
    "# carregando o arquivo com os produtos a serem classificados\n",
    "data_estag = pd.read_csv(path_base + 'data/data_estag_ds.tsv', sep='\\t')"
   ]
  },
  {
   "cell_type": "code",
   "execution_count": 0,
   "metadata": {
    "colab": {},
    "colab_type": "code",
    "id": "lN_VUNGkljwt"
   },
   "outputs": [],
   "source": [
    "# criando as features (cada palavra vira uma feature)\n",
    "for kw in key_words:\n",
    "    data_estag[kw] = data_estag['TITLE'].apply(lambda x: 1 if kw in unidecode( x.lower() ) else 0)"
   ]
  },
  {
   "cell_type": "code",
   "execution_count": 0,
   "metadata": {
    "colab": {},
    "colab_type": "code",
    "id": "kySvdR-VoGYl"
   },
   "outputs": [],
   "source": [
    "from sklearn.tree import DecisionTreeClassifier\n",
    "from sklearn.neighbors import KNeighborsClassifier\n",
    "\n",
    "# instanciando o classificador\n",
    "clf = DecisionTreeClassifier()\n",
    "\n",
    "# treinando o modelo\n",
    "clf = clf.fit(data, target)\n",
    "\n",
    "# predizendo valores (classificando)\n",
    "data_estag['categoria'] = clf.predict(data_estag.loc[:, 'capa':'motorola nextel'])"
   ]
  },
  {
   "cell_type": "code",
   "execution_count": 0,
   "metadata": {
    "colab": {},
    "colab_type": "code",
    "id": "PjhYK3hRsPM9"
   },
   "outputs": [],
   "source": [
    "# convertendo a categoria de 0/1 para smartphone/não-smartphone\n",
    "data_estag['categoria'] = data_estag['categoria'].apply(lambda x: 'smartphone' if x==1 else 'não-smartphone')"
   ]
  },
  {
   "cell_type": "code",
   "execution_count": 0,
   "metadata": {
    "colab": {},
    "colab_type": "code",
    "id": "dTzG4_LDsPPs"
   },
   "outputs": [],
   "source": [
    "# salvando o arquivo csv\n",
    "data_estag[['ID', 'TITLE', 'categoria']].to_csv(path_base+'out/produtos_classificados.csv', index=False)"
   ]
  },
  {
   "cell_type": "markdown",
   "metadata": {
    "colab_type": "text",
    "id": "nTUMwQANww7m"
   },
   "source": [
    "# 2. Teste Extração de atributos"
   ]
  },
  {
   "cell_type": "code",
   "execution_count": 0,
   "metadata": {
    "colab": {},
    "colab_type": "code",
    "id": "v_qDDSwUw0gj"
   },
   "outputs": [],
   "source": [
    "# cria o dataframe de smartphones a partir dos dados que foram classificados como 'smartphone'\n",
    "data = data_estag[['ID', 'TITLE', 'categoria']]\n",
    "smartphones = data.query('categoria == \"smartphone\"').drop('categoria', axis=1)"
   ]
  },
  {
   "cell_type": "code",
   "execution_count": 0,
   "metadata": {
    "colab": {},
    "colab_type": "code",
    "id": "_6lKzGpf2LAi"
   },
   "outputs": [],
   "source": [
    "# extrai a marca do smartphone utilizando o título da oferta\n",
    "def marca(title):\n",
    "    # lista de marcas de smartphone extraída do buscapé\n",
    "    marcas = ('Motorola', 'Samsung', 'Asus', 'LG', 'Apple', 'Alcatel', 'Multilaser', 'Xiaomi', 'Positivo', 'Sony', 'Quantum', 'DL', 'BLU', 'Mirage', 'BlackBerry', 'iPro', 'ZTE', 'Nokia', 'QTouch', 'Bright', 'QbeX', 'LenoxxSound', 'Lenovo', 'Microsoft', 'TCL', 'Philco', 'Huawei', 'Mox', 'TP-Link', 'Freecel', 'Meizu', 'Caterpillar')\n",
    "\n",
    "    for marca in marcas:\n",
    "        if marca.lower() in unidecode( title.lower() ) :\n",
    "            return(marca)\n",
    "\n",
    "    if 'moto ' in unidecode( title.lower() ):\n",
    "        return 'Motorola'\n",
    "    elif 'galaxy ' in unidecode( title.lower() ):\n",
    "        return 'Samsung'\n",
    "    else:\n",
    "        return np.nan"
   ]
  },
  {
   "cell_type": "code",
   "execution_count": 0,
   "metadata": {
    "colab": {},
    "colab_type": "code",
    "id": "PSZVPwRD2LDl"
   },
   "outputs": [],
   "source": [
    "# extrai a quantidade de memória ram do smartphone utilizando o título da oferta\n",
    "def ram(title):\n",
    "    # procura um número antes da palavra 'ram'\n",
    "    m1 = re.findall('(\\d+)((?!\\d).)*ram', unidecode( title.lower()) ) \n",
    "    if m1:\n",
    "        ram1 = np.float( m1[0][0])\n",
    "\n",
    "    # procura um número depois da palavra 'ram'\n",
    "    m2 = re.findall('ram((?!\\d).)*(\\d+)', unidecode( title.lower()) ) \n",
    "    if m2:\n",
    "        ram2 = np.float( m2[0][1])\n",
    "\n",
    "    # se existe número antes e depois de 'ram'\n",
    "    if m1 and m2:\n",
    "        if ram1>0 and ram2>0:\n",
    "            return min(ram1, ram2)\n",
    "        elif ram1>0:\n",
    "            return ram1\n",
    "        else:\n",
    "            return ram2\n",
    "    elif m1:\n",
    "        return ram1\n",
    "    elif m2:\n",
    "        return ram2\n",
    "    else:    \n",
    "        return np.nan"
   ]
  },
  {
   "cell_type": "code",
   "execution_count": 0,
   "metadata": {
    "colab": {},
    "colab_type": "code",
    "id": "RWjYx_bQDEjZ"
   },
   "outputs": [],
   "source": [
    "# extrai o tamanho da tela do smartphone utilizando o título da oferta\n",
    "def tela(title):\n",
    "\n",
    "    # expressões regulares para tentar extrair o tamanho da tela\n",
    "    expressions = (\" \\d(?:\\.|,){0,1}\\d{0,2}(?:(?:\\'{1,2})|\\\")\", \"tela(?: de | )\\d(?:\\.|,){0,1}\\d{0,2}\")\n",
    "\n",
    "    for exp in expressions:\n",
    "        tela = re.findall(exp, unidecode( title.lower()) )\n",
    "\n",
    "    # se deu match, extrai somente o número e converte para float\n",
    "    if tela:\n",
    "        tela = tela[0]\n",
    "        return float( re.findall(r'\\d(?:\\.|,){0,1}\\d{0,2}', tela)[0].replace(',', '.'))\n",
    "    else:\n",
    "        return np.nan"
   ]
  },
  {
   "cell_type": "code",
   "execution_count": 0,
   "metadata": {
    "colab": {},
    "colab_type": "code",
    "id": "FDJEFVH3gYGs"
   },
   "outputs": [],
   "source": [
    "# extrai a cor do smartphone utilizando o título da oferta\n",
    "def cor(title):\n",
    "  \n",
    "    # lista de cores de smartphones extraída do próprio arquivo disponibilizado\n",
    "    cores = ('Preto', 'Branco', 'Cinza', 'Dourado', 'Verde', 'Grafite', 'Black Piano', 'Titânio', 'Titanium', 'Prata', 'Platinum ', 'Ametista', 'Azul Safira', 'Azul Topázio', 'Ouro Rose', 'Rose Gold ', 'Azul', 'Ouro', 'Gold', 'Vermelho', 'Rosa', 'Ultravioleta', 'Indigo', 'Marrom')\n",
    "\n",
    "    for cor in cores:\n",
    "        if unidecode( cor.lower() ) in unidecode( title.lower() ) :\n",
    "            return(cor)\n",
    "\n",
    "    return np.nan"
   ]
  },
  {
   "cell_type": "code",
   "execution_count": 0,
   "metadata": {
    "colab": {},
    "colab_type": "code",
    "id": "yWGyXbHs9ECk"
   },
   "outputs": [],
   "source": [
    "# obtendo atributos\n",
    "smartphones.loc[:, 'marca'] = smartphones.loc[:, 'TITLE'].apply(marca)\n",
    "smartphones.loc[:, 'ram']   = smartphones.loc[:, 'TITLE'].apply(ram)\n",
    "smartphones.loc[:, 'tela']  = smartphones.loc[:, 'TITLE'].apply(tela)\n",
    "smartphones.loc[:, 'cor']   = smartphones.loc[:, 'TITLE'].apply(cor)\n",
    "\n",
    "# salvando arquivo com atributos\n",
    "smartphones.to_csv(path_base+'out/smartphones_atributos.csv', index=False)"
   ]
  },
  {
   "cell_type": "markdown",
   "metadata": {
    "colab_type": "text",
    "id": "Cnv7qzcd0g5D"
   },
   "source": [
    "# 3. Teste de Matching / Deduplicação"
   ]
  },
  {
   "cell_type": "code",
   "execution_count": 0,
   "metadata": {
    "colab": {},
    "colab_type": "code",
    "id": "iZp2Ro3zt4Oh"
   },
   "outputs": [],
   "source": [
    "# Função que calcula a similaridade de duas strings, retirada do post \"Overview of Text Similarity Metrics in Python\" e levemente modificada\n",
    "# Diponível em: https://towardsdatascience.com/overview-of-text-similarity-metrics-3397c4601f50\n",
    "def get_jaccard_sim(str1, str2): \n",
    "    a = set(unidecode(str1).lower().split()) \n",
    "    b = set(unidecode(str2).lower().split())\n",
    "    c = a.intersection(b)\n",
    "    return float(len(c)) / (len(a) + len(b) - len(c))"
   ]
  },
  {
   "cell_type": "code",
   "execution_count": 0,
   "metadata": {
    "colab": {},
    "colab_type": "code",
    "id": "w0H9tN_66cAp"
   },
   "outputs": [],
   "source": [
    "# obtem a quantidade de smartphones\n",
    "n = smartphones.shape[0]\n",
    "\n",
    "# renomeia os indices do dataframe para facilitar a iteração sobre as linhas\n",
    "ind = {old : new for (old,new) in zip(smartphones.index, range(n))}\n",
    "smartphones = smartphones.rename(index=ind)"
   ]
  },
  {
   "cell_type": "code",
   "execution_count": 0,
   "metadata": {
    "colab": {},
    "colab_type": "code",
    "id": "ma4Pxb1kt4Q8"
   },
   "outputs": [],
   "source": [
    "import csv, math\n",
    "\n",
    "# abre o arquivo csv de matchs e vai salvando cada match encontrado\n",
    "with open(path_base+'out/smartphones_duplicados.csv', 'w', newline='') as csvfile:\n",
    "    fieldnames = ['ID 1', 'Titulo 1', 'ID 2', 'Titulo 2', 'Similaridade', 'Especificações iguais', 'Especificações diferentes']\n",
    "    writer = csv.DictWriter(csvfile, fieldnames=fieldnames)\n",
    "\n",
    "    writer.writeheader()\n",
    "  \n",
    "    for index1, row1 in smartphones.iloc[:n-1, :].iterrows():\n",
    "        for index2, row2 in smartphones.iloc[index1+1:, :].iterrows():\n",
    "\n",
    "            # verifica se os atributos (marca, ram e tela) são iguais\n",
    "            if (\n",
    "              (row1['marca'] == row2['marca'] or str(row1['marca']) == 'nan' or str(row2['marca']) == 'nan') and \n",
    "              (row1['ram'] == row2['ram'] or str(row1['ram']) == 'nan' or str(row2['ram']) == 'nan') and \n",
    "              (row1['tela'] == row2['tela'] or str(row1['tela']) == 'nan' or str(row2['tela']) == 'nan')\n",
    "            ):\n",
    "                # obtém a similaridade de jaccard\n",
    "                sim = get_jaccard_sim(row1['TITLE'], row2['TITLE'])\n",
    "\n",
    "                if sim >= 0.84:\n",
    "                    att_eq = [] #atributos iguais\n",
    "                    att_dif = [] #atributos diferentes\n",
    "\n",
    "                    # itera pelos atributos para obter os que são iguais e os que são diferentes\n",
    "                    for ((l, a1), a2) in zip( row1.loc['marca':'cor'].iteritems(), row2.loc['marca':'cor'] ):\n",
    "                        if a1 == a2:\n",
    "                            att_eq.append( l+': '+str(a1) )\n",
    "                        elif str(a1) != 'nan' or str(a2) != 'nan':\n",
    "                            att_dif.append( l+': '+str(a1)+', '+str(a2) )        \n",
    "\n",
    "                        writer.writerow( {'ID 1'                      : row1['ID'], 'Titulo 1': row1['TITLE'], \n",
    "                                    'ID 2'                      : row2['ID'], 'Titulo 2': row2['TITLE'], \n",
    "                                    'Similaridade'              : sim,\n",
    "                                    'Especificações iguais'     : '; '.join( att_eq ),\n",
    "                                    'Especificações diferentes' : '; '.join( att_dif )\n",
    "                                   } )"
   ]
  }
 ],
 "metadata": {
  "accelerator": "GPU",
  "colab": {
   "collapsed_sections": [],
   "name": "etapa_2.ipynb",
   "provenance": [],
   "version": "0.3.2"
  },
  "kernelspec": {
   "display_name": "Python 3",
   "language": "python",
   "name": "python3"
  },
  "language_info": {
   "codemirror_mode": {
    "name": "ipython",
    "version": 3
   },
   "file_extension": ".py",
   "mimetype": "text/x-python",
   "name": "python",
   "nbconvert_exporter": "python",
   "pygments_lexer": "ipython3",
   "version": "3.5.2"
  }
 },
 "nbformat": 4,
 "nbformat_minor": 1
}
