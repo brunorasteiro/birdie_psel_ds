{
 "cells": [
  {
   "cell_type": "code",
   "execution_count": 182,
   "metadata": {},
   "outputs": [],
   "source": [
    "import pandas as pd"
   ]
  },
  {
   "cell_type": "code",
   "execution_count": null,
   "metadata": {},
   "outputs": [],
   "source": [
    "# tenta abrir o arquivo de produtos pelo primeiro parâmetro do terminal\n",
    "# se não conseguir tenta abrir com o nome 'data_estag_ds.tsv'\n",
    "import sys\n",
    "\n",
    "try:\n",
    "    path = sys.argv[1]\n",
    "    data = pd.read_csv(path, sep='\\t')\n",
    "except Exception as e:\n",
    "    try:\n",
    "        data = pd.read_csv('data_estag_ds.tsv', sep='\\t')\n",
    "    except:\n",
    "        print('Erro ao abrir arquivo: ', e)\n",
    "        sys.exit()"
   ]
  },
  {
   "cell_type": "code",
   "execution_count": 198,
   "metadata": {},
   "outputs": [],
   "source": [
    "# le o arquivo\n",
    "\n",
    "\n",
    "# insere a coluna CLASSE que futuramente será preenchida com o rótulo 'smartphone' ou 'não-smartphone' \n",
    "data.insert(data.shape[1], 'CLASSE', '')"
   ]
  },
  {
   "cell_type": "code",
   "execution_count": 194,
   "metadata": {},
   "outputs": [],
   "source": [
    "from unidecode import unidecode\n",
    "\n",
    "# Função que classifica um produto em 'smartphone' ou 'não-smartphone' com base em seu anúncio\n",
    "# Parâmetros:\n",
    "# * prod:      <str>         Anúncio do produto\n",
    "# * kw_smart:  <list of str> Lista das palavras chave que um smartphone possívelmente contém\n",
    "# * kw_nsmart: <list of str> Lista das palavras chave que um não smartphone possívelmente contém\n",
    "# Retorno:\n",
    "# * Retorna uma string que representa a classe do produto, 'smartphone' ou 'não-smartphone'\n",
    "def classifica(prod, kw_smart, kw_nsmart):\n",
    "    \n",
    "    # substitui caracteres especiais e deixa em lowercase (o anuncio do produto)\n",
    "    prod = unidecode( prod.lower() )\n",
    "    \n",
    "    # testa se o anuncio do produto contem alguma das palavras de um não smartphone\n",
    "    if True in [kw in prod for kw in key_nsmart]:\n",
    "        return 'não-smartphone'\n",
    "    \n",
    "    # testa se o anuncio do produto contem alguma das palavras de um smartphone\n",
    "    elif True in [kw in prod for kw in key_smart]:\n",
    "        return 'smartphone'\n",
    "    \n",
    "    # se não for smartphone, será não smartphone\n",
    "    else:\n",
    "        return 'não-smartphone'"
   ]
  },
  {
   "cell_type": "code",
   "execution_count": 195,
   "metadata": {},
   "outputs": [],
   "source": [
    "# lista das palavras chave que o anúncio de um não smartphone possívelmente contém\n",
    "key_nsmart = ['capa',\n",
    "             'capinha',\n",
    "             'case',\n",
    "             'pelicula',\n",
    "             'acessorio',\n",
    "             'tablet',\n",
    "             'tab ',\n",
    "             'relogio',\n",
    "             'smartwatch',\n",
    "             'bumper',\n",
    "             'bumber',\n",
    "             'protetores',\n",
    "             'protetor',\n",
    "             'suporte',\n",
    "             'kit',\n",
    "             'cabo',\n",
    "             'bracadeira',\n",
    "             'ipad',\n",
    "             'adesivo',\n",
    "             'lentes',\n",
    "             'lente',\n",
    "             'carregador',\n",
    "             'repetidor',\n",
    "             'espelhamento',\n",
    "             'mirror',\n",
    "             'antena',\n",
    "             'watch',\n",
    "             'interface']"
   ]
  },
  {
   "cell_type": "code",
   "execution_count": 196,
   "metadata": {},
   "outputs": [],
   "source": [
    "# lista das palavras chave que o anúncio de um smartphone possívelmente contém\n",
    "key_smart = ['smartphone', \n",
    "              'celular', \n",
    "              'iphone', \n",
    "              'galaxy', \n",
    "              'samsung a', \n",
    "              'samsung j', \n",
    "              'moto ', \n",
    "              'xperia', \n",
    "              'zenfone', \n",
    "              'lg k', \n",
    "              'xiaomi mi', \n",
    "              'rom global', \n",
    "              'xiaomi redmi', \n",
    "              'oneplus', \n",
    "              'caterpillar cat', \n",
    "              'motorola nextel']"
   ]
  },
  {
   "cell_type": "code",
   "execution_count": 197,
   "metadata": {},
   "outputs": [],
   "source": [
    "# aplica a classificação a todas as instâncias e armazena na coluna 'classe'\n",
    "data['CLASSE'] = data['TITLE'].apply(lambda x: classifica(x, key_smart, key_nsmart) )\n",
    "\n",
    "# salva em csv os produtos e sua respectiva classe\n",
    "data.to_csv(\"produtos_classificados.csv\", index=False)"
   ]
  }
 ],
 "metadata": {
  "kernelspec": {
   "display_name": "Python 3",
   "language": "python",
   "name": "python3"
  },
  "language_info": {
   "codemirror_mode": {
    "name": "ipython",
    "version": 3
   },
   "file_extension": ".py",
   "mimetype": "text/x-python",
   "name": "python",
   "nbconvert_exporter": "python",
   "pygments_lexer": "ipython3",
   "version": "3.5.2"
  }
 },
 "nbformat": 4,
 "nbformat_minor": 2
}
