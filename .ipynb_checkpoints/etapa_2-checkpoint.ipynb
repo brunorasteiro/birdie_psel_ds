{
 "cells": [
  {
   "cell_type": "code",
   "execution_count": 117,
   "metadata": {},
   "outputs": [],
   "source": [
    "import pandas as pd\n",
    "import numpy as np\n",
    "import json\n",
    "from matplotlib import pyplot as plt\n",
    "from unidecode import unidecode"
   ]
  },
  {
   "cell_type": "code",
   "execution_count": 77,
   "metadata": {},
   "outputs": [],
   "source": [
    "# carrega arquivo de smartphones\n",
    "smart = json.load(open('crawler_prod/smartphones.json'))\n",
    "smart = pd.DataFrame(smart)\n",
    "\n",
    "# carrega arquivo de não smartphones\n",
    "n_smart = json.load(open('crawler_prod/nao_smartphones.json'))\n",
    "n_smart = pd.DataFrame(n_smart)"
   ]
  },
  {
   "cell_type": "code",
   "execution_count": 78,
   "metadata": {},
   "outputs": [],
   "source": [
    "# quantidade de smartphones\n",
    "n = smart.shape[0]\n",
    "\n",
    "# junta os dois dataframes amostrando n instâncias dos não smartphones\n",
    "data = pd.concat([smart, n_smart.sample(n, replace=False)])"
   ]
  },
  {
   "cell_type": "code",
   "execution_count": 79,
   "metadata": {},
   "outputs": [],
   "source": [
    "# palavras chave de não smartphone e de smartphones\n",
    "key_words = ['capa', 'capinha', 'case', 'pelicula', 'acessorio', \n",
    "             'tablet', 'tab ', 'relogio', 'smartwatch', 'bumper', \n",
    "             'bumber', 'protetores', 'protetor', 'suporte', \n",
    "             'kit', 'cabo', 'bracadeira', 'ipad', 'adesivo', \n",
    "             'lentes', 'lente', 'carregador', 'repetidor', \n",
    "             'espelhamento', 'mirror', 'antena', 'watch', 'interface'] + [\n",
    "             'smartphone', 'celular', 'iphone', 'galaxy', 'samsung a', \n",
    "             'samsung j', 'moto ', 'xperia', 'zenfone', 'lg k', \n",
    "             'xiaomi mi', 'rom global', 'xiaomi redmi', 'oneplus', \n",
    "             'caterpillar cat', 'motorola nextel']"
   ]
  },
  {
   "cell_type": "code",
   "execution_count": 80,
   "metadata": {},
   "outputs": [],
   "source": [
    "# cada palavra vira uma feature\n",
    "for kw in key_words:\n",
    "    data[kw] = data['descricao'].apply(lambda x: 1 if kw in unidecode( x.lower() ) else 0)    "
   ]
  },
  {
   "cell_type": "code",
   "execution_count": 81,
   "metadata": {},
   "outputs": [],
   "source": [
    "# separa em target e data (somente as features)\n",
    "target = data['tipo'].apply(lambda x: 0 if x=='nao-smartphone' else 1)\n",
    "data = data.loc[:, 'capa':'motorola nextel']"
   ]
  },
  {
   "cell_type": "code",
   "execution_count": null,
   "metadata": {},
   "outputs": [],
   "source": []
  },
  {
   "cell_type": "code",
   "execution_count": null,
   "metadata": {},
   "outputs": [],
   "source": []
  },
  {
   "cell_type": "code",
   "execution_count": null,
   "metadata": {},
   "outputs": [],
   "source": [
    "# função que treina e testa o KNN com cross validation (5 folds) variando o k de 1 a 100 \n",
    "# retorno: uma tupla contendo o erro médio quadrático em treino e teste para cada uma das 100 execuções (sendo 5 execuções para cada uma das 100)\n",
    "def err_k(data):\n",
    "    from sklearn.neighbors import KNeighborsClassifier\n",
    "    from sklearn.metrics import mean_squared_error\n",
    "    from sklearn.model_selection import KFold\n",
    "\n",
    "    kf = KFold(10, shuffle=True)\n",
    "    k_range = range(1, 10)\n",
    "    err_test = np.zeros( (len(k_range), 10) )\n",
    "    err_train = np.zeros( (len(k_range), 10) )\n",
    "\n",
    "    for k in k_range:\n",
    "        clf = KNeighborsClassifier(k)\n",
    "\n",
    "        for i, (train_index, test_index) in enumerate(kf.split(data)):\n",
    "            # separa conjunto de treino e de teste\n",
    "            x_train, x_test = data.iloc[train_index], data.iloc[test_index]\n",
    "            y_train, y_test = target.iloc[train_index], target.iloc[test_index]\n",
    "\n",
    "            # treinando o modelo\n",
    "            clf = clf.fit(x_train, y_train)\n",
    "\n",
    "            # predizendo em teste (classificando)\n",
    "            y_pred = clf.predict(x_test)\n",
    "            err_test[k-1][i] = ( mean_squared_error(y_test, y_pred) )\n",
    "\n",
    "            # predizendo em treino\n",
    "            y_pred = clf.predict(x_train)\n",
    "            err_train[k-1][i] = ( mean_squared_error(y_train, y_pred) )   \n",
    "\n",
    "    return err_train, err_test"
   ]
  },
  {
   "cell_type": "code",
   "execution_count": null,
   "metadata": {},
   "outputs": [],
   "source": [
    "err_train, err_test = err_k(data)"
   ]
  },
  {
   "cell_type": "code",
   "execution_count": null,
   "metadata": {},
   "outputs": [],
   "source": [
    "# plot do erro em teste e treino\n",
    "plt.figure( figsize=(10, 5) )\n",
    "\n",
    "x = range(1, err_train[1].shape[0]+1)\n",
    "\n",
    "y_train     = err_train[0].mean(axis=1)\n",
    "y_test      = err_test[0].mean(axis=1)\n",
    "\n",
    "plt.plot(x, y_test, label=\"Teste\")\n",
    "plt.plot(x, y_train, label=\"Treino\")\n",
    "\n",
    "plt.title(\"Erro do KNN em treino e teste\")\n",
    "plt.xlabel(\"K\")\n",
    "plt.ylabel(\"Erro médio quadrático\")\n",
    "plt.legend(loc=\"lower right\")\n",
    "\n",
    "plt.show()"
   ]
  },
  {
   "cell_type": "code",
   "execution_count": null,
   "metadata": {},
   "outputs": [],
   "source": []
  },
  {
   "cell_type": "code",
   "execution_count": null,
   "metadata": {},
   "outputs": [],
   "source": []
  },
  {
   "cell_type": "code",
   "execution_count": null,
   "metadata": {},
   "outputs": [],
   "source": []
  },
  {
   "cell_type": "code",
   "execution_count": 109,
   "metadata": {},
   "outputs": [
    {
     "name": "stderr",
     "output_type": "stream",
     "text": [
      "/home/rasteiro/.local/lib/python3.5/site-packages/sklearn/discriminant_analysis.py:388: UserWarning: Variables are collinear.\n",
      "  warnings.warn(\"Variables are collinear.\")\n",
      "/home/rasteiro/.local/lib/python3.5/site-packages/sklearn/discriminant_analysis.py:682: UserWarning: Variables are collinear\n",
      "  warnings.warn(\"Variables are collinear\")\n"
     ]
    }
   ],
   "source": [
    "from sklearn.tree import DecisionTreeClassifier\n",
    "from sklearn.neighbors import KNeighborsClassifier\n",
    "from sklearn.discriminant_analysis import LinearDiscriminantAnalysis as LDA\n",
    "from sklearn.discriminant_analysis import QuadraticDiscriminantAnalysis as QDA\n",
    "from sklearn.metrics import accuracy_score\n",
    "from sklearn.model_selection import KFold\n",
    "\n",
    "dt = DecisionTreeClassifier()\n",
    "knn = KNeighborsClassifier(1)\n",
    "lda = LDA()\n",
    "qda = QDA()\n",
    "\n",
    "clfs = (dt, knn, lda, qda)\n",
    "clfs_name = (\"Árvore de decisão\", \"KNN\", \"LDA\", \"QDA\")\n",
    "\n",
    "kf = KFold(n_splits=10, shuffle=True)\n",
    "score = {name : np.zeros(10) for name in clfs_name}\n",
    "y_proba = {name : () for name in clfs_name}\n",
    "\n",
    "for i, (clf, clf_name) in enumerate( zip(clfs, clfs_name) ):\n",
    "    for j, (train_index, test_index) in enumerate( kf.split(data) ):\n",
    "        x_train, x_test = data.iloc[train_index], data.iloc[test_index]\n",
    "        y_train, y_test = target.iloc[train_index], target.iloc[test_index]\n",
    "\n",
    "        # treinando o modelo\n",
    "        clf = clf.fit(x_train, y_train)\n",
    "\n",
    "        # predizendo valores (classificando)\n",
    "        y_pred = clf.predict(x_test)\n",
    "        y_pred_proba = clf.predict_proba(x_test)[:, 1]\n",
    "        \n",
    "        score[clf_name][j] = accuracy_score(y_test, y_pred)\n",
    "        \n",
    "        # armazena uma tupla com o y teste, y proba e y predito do classificador clf_name\n",
    "        y_proba[clf_name] = (y_test, y_pred_proba, y_pred)\n"
   ]
  },
  {
   "cell_type": "code",
   "execution_count": 113,
   "metadata": {},
   "outputs": [
    {
     "name": "stdout",
     "output_type": "stream",
     "text": [
      "LDA - 0.963365\n",
      "KNN - 0.928334\n",
      "Árvore de decisão - 0.971103\n",
      "QDA - 0.530732\n"
     ]
    }
   ],
   "source": [
    "for clf in score:\n",
    "    print('%s - %f' % (clf, np.mean(score[clf])))"
   ]
  },
  {
   "cell_type": "code",
   "execution_count": 132,
   "metadata": {},
   "outputs": [
    {
     "name": "stderr",
     "output_type": "stream",
     "text": [
      "No handles with labels found to put in legend.\n"
     ]
    },
    {
     "data": {
      "image/png": "[encoded data removed]",
      "text/plain": [
       "<Figure size 576x360 with 1 Axes>"
      ]
     },
     "metadata": {},
     "output_type": "display_data"
    }
   ],
   "source": [
    "# plot da acuracia\n",
    "plt.figure(figsize=(8, 5))\n",
    "\n",
    "x = np.arange(len(clfs_name))\n",
    "y = [ score[clf].mean() for clf in clfs_name ]\n",
    "y_err = [ score[clf].std() for clf in clfs_name ]\n",
    "\n",
    "plt.bar(x, y, yerr=y_err, width=0.4)\n",
    "\n",
    "for i, v in enumerate(y):\n",
    "    plt.text(i-0.1, 0.03, '%.2f'%(v*100), color='white')\n",
    "      \n",
    "plt.title(\"Acurácia dos classificadores\")\n",
    "plt.xlabel(\"Classificador\")\n",
    "plt.ylabel(\"Acurácia\")\n",
    "plt.xticks(x, clfs_name)\n",
    "plt.legend(loc=\"upper left\")\n",
    "plt.ylim(0, 1)\n",
    "\n",
    "plt.show()"
   ]
  },
  {
   "cell_type": "code",
   "execution_count": null,
   "metadata": {},
   "outputs": [],
   "source": []
  },
  {
   "cell_type": "code",
   "execution_count": null,
   "metadata": {},
   "outputs": [],
   "source": []
  }
 ],
 "metadata": {
  "kernelspec": {
   "display_name": "Python 3",
   "language": "python",
   "name": "python3"
  },
  "language_info": {
   "codemirror_mode": {
    "name": "ipython",
    "version": 3
   },
   "file_extension": ".py",
   "mimetype": "text/x-python",
   "name": "python",
   "nbconvert_exporter": "python",
   "pygments_lexer": "ipython3",
   "version": "3.5.2"
  }
 },
 "nbformat": 4,
 "nbformat_minor": 2
}
